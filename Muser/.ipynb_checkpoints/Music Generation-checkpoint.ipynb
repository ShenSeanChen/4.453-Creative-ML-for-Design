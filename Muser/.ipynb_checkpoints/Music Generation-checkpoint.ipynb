{
 "cells": [
  {
   "cell_type": "markdown",
   "metadata": {},
   "source": [
    "### LSTM"
   ]
  },
  {
   "cell_type": "code",
   "execution_count": 1,
   "metadata": {},
   "outputs": [],
   "source": [
    "# !pip install mido"
   ]
  },
  {
   "cell_type": "code",
   "execution_count": 2,
   "metadata": {},
   "outputs": [],
   "source": [
    "# !pip install keras\n",
    "# import keras"
   ]
  },
  {
   "cell_type": "code",
   "execution_count": 3,
   "metadata": {},
   "outputs": [
    {
     "name": "stderr",
     "output_type": "stream",
     "text": [
      "Using TensorFlow backend.\n"
     ]
    }
   ],
   "source": [
    "# Library to process MIDI files\n",
    "import tensorflow as tf\n",
    "from tensorflow.keras.layers import LSTM, Dense, Activation, Dropout, Flatten\n",
    "from tensorflow.keras.preprocessing import sequence\n",
    "from tensorflow.keras.models import Sequential\n",
    "from tensorflow.keras.optimizers import Adam\n",
    "from tensorflow.keras.callbacks import ModelCheckpoint\n",
    "from keras.layers import TimeDistributed\n",
    "from keras.layers import Bidirectional\n",
    "\n",
    "from sklearn.preprocessing import MinMaxScaler\n",
    "import numpy as np\n",
    "import pandas as pd\n",
    "import matplotlib.pyplot as plt\n",
    "from sklearn.metrics import mean_squared_error"
   ]
  },
  {
   "cell_type": "code",
   "execution_count": 4,
   "metadata": {},
   "outputs": [],
   "source": [
    "import mido\n",
    "from mido import MidiFile, MidiTrack, Message"
   ]
  },
  {
   "cell_type": "code",
   "execution_count": 6,
   "metadata": {},
   "outputs": [
    {
     "name": "stdout",
     "output_type": "stream",
     "text": [
      "ES_A Presence Felt - Gavin Luke.mp3.mid has the keyword\n"
     ]
    }
   ],
   "source": [
    "import os\n",
    "\n",
    "folder_name = '1-Calming'\n",
    "keyword = 'A Presence Felt'\n",
    "for fname in os.listdir('midi/'+folder_name):\n",
    "    if keyword in fname:\n",
    "        print(fname, \"has the keyword\")"
   ]
  },
  {
   "cell_type": "code",
   "execution_count": 7,
   "metadata": {
    "scrolled": true
   },
   "outputs": [
    {
     "name": "stdout",
     "output_type": "stream",
     "text": [
      "<meta message set_tempo tempo=500000 time=0>\n",
      "program_change channel=0 program=0 time=0\n",
      "note_on channel=0 note=76 velocity=14 time=0\n",
      "note_on channel=0 note=57 velocity=50 time=0.010869565217391304\n",
      "note_off channel=0 note=76 velocity=64 time=0.2934782608695652\n",
      "note_on channel=0 note=72 velocity=24 time=0.08695652173913043\n",
      "note_on channel=0 note=60 velocity=42 time=0.021739130434782608\n",
      "note_off channel=0 note=57 velocity=64 time=0.021739130434782608\n",
      "note_off channel=0 note=60 velocity=64 time=0.021739130434782608\n",
      "note_on channel=0 note=57 velocity=38 time=0.010869565217391304\n",
      "note_off channel=0 note=57 velocity=64 time=0.10869565217391304\n",
      "note_on channel=0 note=57 velocity=33 time=0.010869565217391304\n",
      "note_off channel=0 note=57 velocity=64 time=0.10869565217391304\n",
      "note_on channel=0 note=57 velocity=29 time=0.010869565217391304\n",
      "note_on channel=0 note=60 velocity=29 time=0.06521739130434782\n",
      "note_off channel=0 note=57 velocity=64 time=0.010869565217391304\n",
      "note_on channel=0 note=64 velocity=35 time=0.021739130434782608\n",
      "note_off channel=0 note=60 velocity=64 time=0.010869565217391304\n",
      "note_on channel=0 note=57 velocity=25 time=0.010869565217391304\n",
      "note_off channel=0 note=57 velocity=64 time=0.03260869565217391\n",
      "note_on channel=0 note=57 velocity=20 time=0.010869565217391304\n",
      "note_off channel=0 note=57 velocity=64 time=0.06521739130434782\n",
      "note_on channel=0 note=57 velocity=23 time=0.010869565217391304\n",
      "note_off channel=0 note=57 velocity=64 time=0.05434782608695652\n",
      "note_on channel=0 note=57 velocity=18 time=0.043478260869565216\n",
      "note_off channel=0 note=57 velocity=64 time=0.05434782608695652\n",
      "note_on channel=0 note=60 velocity=38 time=0.05434782608695652\n",
      "note_off channel=0 note=72 velocity=64 time=0.021739130434782608\n",
      "note_off channel=0 note=60 velocity=64 time=0.19565217391304346\n",
      "note_on channel=0 note=60 velocity=16 time=0.03260869565217391\n",
      "note_off channel=0 note=60 velocity=64 time=0.08695652173913043\n",
      "note_on channel=0 note=57 velocity=17 time=0.07608695652173914\n",
      "note_on channel=0 note=63 velocity=37 time=0\n",
      "note_off channel=0 note=64 velocity=64 time=0\n",
      "note_on channel=0 note=76 velocity=28 time=0.021739130434782608\n",
      "note_off channel=0 note=57 velocity=64 time=0.010869565217391304\n",
      "note_on channel=0 note=60 velocity=15 time=0\n",
      "note_off channel=0 note=63 velocity=64 time=0\n",
      "note_on channel=0 note=64 velocity=39 time=0\n",
      "note_on channel=0 note=47 velocity=15 time=0.021739130434782608\n",
      "note_off channel=0 note=60 velocity=64 time=0.03260869565217391\n",
      "note_off channel=0 note=47 velocity=64 time=0.010869565217391304\n",
      "note_off channel=0 note=76 velocity=64 time=0.19565217391304346\n",
      "note_on channel=0 note=46 velocity=13 time=0.08695652173913043\n",
      "note_on channel=0 note=72 velocity=37 time=0\n",
      "note_on channel=0 note=60 velocity=46 time=0.010869565217391304\n",
      "note_off channel=0 note=46 velocity=64 time=0.021739130434782608\n",
      "note_on channel=0 note=47 velocity=11 time=0.021739130434782608\n",
      "note_off channel=0 note=47 velocity=64 time=0.043478260869565216\n",
      "note_off channel=0 note=64 velocity=64 time=0.32608695652173914\n",
      "note_on channel=0 note=67 velocity=46 time=0\n",
      "note_on channel=0 note=55 velocity=40 time=0.010869565217391304\n",
      "note_on channel=0 note=47 velocity=30 time=0.010869565217391304\n",
      "note_on channel=0 note=74 velocity=17 time=0\n",
      "note_off channel=0 note=47 velocity=64 time=0.021739130434782608\n",
      "note_off channel=0 note=60 velocity=64 time=0\n",
      "note_off channel=0 note=72 velocity=64 time=0.021739130434782608\n",
      "note_off channel=0 note=74 velocity=64 time=0.13043478260869565\n",
      "note_on channel=0 note=72 velocity=45 time=0.14130434782608695\n",
      "note_on channel=0 note=60 velocity=53 time=0.010869565217391304\n",
      "note_on channel=0 note=64 velocity=11 time=0.07608695652173914\n",
      "note_off channel=0 note=64 velocity=64 time=0.16304347826086957\n",
      "note_on channel=0 note=64 velocity=48 time=0.14130434782608695\n",
      "note_on channel=0 note=83 velocity=16 time=0.010869565217391304\n",
      "note_off channel=0 note=55 velocity=64 time=0.010869565217391304\n",
      "note_off channel=0 note=67 velocity=64 time=0.010869565217391304\n",
      "note_on channel=0 note=55 velocity=14 time=0.010869565217391304\n",
      "note_on channel=0 note=47 velocity=12 time=0.043478260869565216\n",
      "note_off channel=0 note=55 velocity=64 time=0.010869565217391304\n",
      "note_off channel=0 note=47 velocity=64 time=0.043478260869565216\n",
      "note_on channel=0 note=55 velocity=33 time=0.043478260869565216\n",
      "note_off channel=0 note=83 velocity=64 time=0.03260869565217391\n",
      "note_off channel=0 note=60 velocity=64 time=0.14130434782608695\n",
      "note_on channel=0 note=60 velocity=45 time=0.010869565217391304\n",
      "note_off channel=0 note=55 velocity=64 time=0.010869565217391304\n",
      "note_on channel=0 note=55 velocity=14 time=0.010869565217391304\n",
      "note_on channel=0 note=47 velocity=17 time=0.010869565217391304\n",
      "note_off channel=0 note=55 velocity=64 time=0.021739130434782608\n",
      "note_on channel=0 note=55 velocity=17 time=0.010869565217391304\n",
      "note_off channel=0 note=47 velocity=64 time=0.010869565217391304\n",
      "note_off channel=0 note=55 velocity=64 time=0.043478260869565216\n",
      "note_off channel=0 note=60 velocity=64 time=0.09782608695652173\n",
      "note_on channel=0 note=60 velocity=27 time=0.010869565217391304\n",
      "note_off channel=0 note=60 velocity=64 time=0.15217391304347827\n",
      "note_on channel=0 note=55 velocity=21 time=0.010869565217391304\n",
      "note_on channel=0 note=60 velocity=22 time=0.010869565217391304\n",
      "note_off channel=0 note=55 velocity=64 time=0.03260869565217391\n",
      "note_on channel=0 note=55 velocity=12 time=0.010869565217391304\n",
      "note_off channel=0 note=55 velocity=64 time=0.06521739130434782\n",
      "note_on channel=0 note=55 velocity=12 time=0.021739130434782608\n",
      "note_off channel=0 note=55 velocity=64 time=0.10869565217391304\n",
      "note_on channel=0 note=59 velocity=34 time=0.09782608695652173\n",
      "note_off channel=0 note=60 velocity=64 time=0\n",
      "note_off channel=0 note=59 velocity=64 time=0.021739130434782608\n",
      "note_on channel=0 note=60 velocity=47 time=0\n",
      "note_on channel=0 note=55 velocity=16 time=0.06521739130434782\n",
      "note_off channel=0 note=55 velocity=64 time=0.10869565217391304\n",
      "note_on channel=0 note=55 velocity=25 time=0.010869565217391304\n",
      "note_off channel=0 note=64 velocity=64 time=0.17391304347826086\n",
      "note_off channel=0 note=55 velocity=64 time=0.010869565217391304\n",
      "note_on channel=0 note=56 velocity=34 time=0\n"
     ]
    }
   ],
   "source": [
    "# define which song we are using\n",
    "folder_name = '1-Calming'\n",
    "song_name = 'ES_A Presence Felt - Gavin Luke'\n",
    "midi_filename = 'midi/' + folder_name + '/' + song_name + '.mp3.mid'\n",
    "\n",
    "midi = MidiFile(midi_filename)\n",
    "\n",
    "cnt = 0\n",
    "for msg in midi:\n",
    "  print(msg)\n",
    "  cnt+=1\n",
    "  if cnt>100:\n",
    "    break "
   ]
  },
  {
   "cell_type": "code",
   "execution_count": 8,
   "metadata": {},
   "outputs": [
    {
     "name": "stdout",
     "output_type": "stream",
     "text": [
      "[76, 57, 72, 60, 57, 57, 57, 60, 64, 57, 57, 57, 57, 60, 60]\n",
      "3226\n"
     ]
    }
   ],
   "source": [
    "# save notes for the song as a list\n",
    "\n",
    "notes = []\n",
    "for msg in midi:\n",
    "    if not msg.is_meta and msg.channel == 0 and msg.type == 'note_on':\n",
    "        data = msg.bytes()\n",
    "        notes.append(data[1]) # we are just adding the note!\n",
    "        \n",
    "print(notes[:15])\n",
    "print(len(notes))"
   ]
  },
  {
   "cell_type": "code",
   "execution_count": 9,
   "metadata": {},
   "outputs": [
    {
     "name": "stdout",
     "output_type": "stream",
     "text": [
      "[array([0.61016949]), array([0.28813559]), array([0.54237288]), array([0.33898305]), array([0.28813559]), array([0.28813559]), array([0.28813559]), array([0.33898305]), array([0.40677966]), array([0.28813559]), array([0.28813559]), array([0.28813559]), array([0.28813559]), array([0.33898305]), array([0.33898305])]\n",
      "3226\n"
     ]
    }
   ],
   "source": [
    "## rescale all the notes to the [0,1] interval\n",
    "\n",
    "scaler = MinMaxScaler(feature_range=(0,1))\n",
    "scaler.fit(np.array(notes).reshape(-1,1))\n",
    "notes = list(scaler.transform(np.array(notes).reshape(-1,1)))\n",
    "\n",
    "print(notes[:15])\n",
    "print(len(notes))"
   ]
  },
  {
   "cell_type": "code",
   "execution_count": 10,
   "metadata": {},
   "outputs": [
    {
     "name": "stdout",
     "output_type": "stream",
     "text": [
      "2196\n"
     ]
    }
   ],
   "source": [
    "# predict the next note for the a song sequence\n",
    "\n",
    "# LSTM layers requires that data must have a certain shape\n",
    "notes = [list(note) for note in notes]\n",
    "\n",
    "# subsample data for training and prediction\n",
    "X = []\n",
    "y = []\n",
    "# number of notes in a batch\n",
    "n_prev = 30\n",
    "for i in range(len(notes)-n_prev):\n",
    "    X.append(notes[i:i+n_prev])\n",
    "    y.append(notes[i+n_prev])\n",
    "# save a seed to do prediction later\n",
    "X_test = X[-1000:]\n",
    "y_test = y[-1000:]\n",
    "y_test = [note[0] for note in y_test]\n",
    "X = X[:-1000]\n",
    "y = y[:-1000]\n",
    "\n",
    "print(len(X))"
   ]
  },
  {
   "cell_type": "code",
   "execution_count": 11,
   "metadata": {},
   "outputs": [
    {
     "data": {
      "text/plain": [
       "(2196, 30, 1)"
      ]
     },
     "execution_count": 11,
     "metadata": {},
     "output_type": "execute_result"
    }
   ],
   "source": [
    "np.shape(X)"
   ]
  },
  {
   "cell_type": "code",
   "execution_count": 12,
   "metadata": {},
   "outputs": [
    {
     "data": {
      "text/plain": [
       "(2196, 1)"
      ]
     },
     "execution_count": 12,
     "metadata": {},
     "output_type": "execute_result"
    }
   ],
   "source": [
    "np.shape(y)"
   ]
  },
  {
   "cell_type": "code",
   "execution_count": 13,
   "metadata": {},
   "outputs": [
    {
     "data": {
      "text/plain": [
       "30"
      ]
     },
     "execution_count": 13,
     "metadata": {},
     "output_type": "execute_result"
    }
   ],
   "source": [
    "n_prev"
   ]
  },
  {
   "cell_type": "code",
   "execution_count": 14,
   "metadata": {
    "scrolled": true
   },
   "outputs": [
    {
     "name": "stdout",
     "output_type": "stream",
     "text": [
      "Train on 2196 samples\n",
      "Epoch 1/20\n",
      "2196/2196 [==============================] - 68s 31ms/sample - loss: 0.0485\n",
      "Epoch 2/20\n",
      "2196/2196 [==============================] - 22s 10ms/sample - loss: 0.0461\n",
      "Epoch 3/20\n",
      "2196/2196 [==============================] - 24s 11ms/sample - loss: 0.0466\n",
      "Epoch 4/20\n",
      "2196/2196 [==============================] - 24s 11ms/sample - loss: 0.0463\n",
      "Epoch 5/20\n",
      "2196/2196 [==============================] - 27s 12ms/sample - loss: 0.0457\n",
      "Epoch 6/20\n",
      "2196/2196 [==============================] - 28s 13ms/sample - loss: 0.0457\n",
      "Epoch 7/20\n",
      "2196/2196 [==============================] - 29s 13ms/sample - loss: 0.0459\n",
      "Epoch 8/20\n",
      "2196/2196 [==============================] - 25s 11ms/sample - loss: 0.0451\n",
      "Epoch 9/20\n",
      "2196/2196 [==============================] - 26s 12ms/sample - loss: 0.0455\n",
      "Epoch 10/20\n",
      "2196/2196 [==============================] - 28s 13ms/sample - loss: 0.0446\n",
      "Epoch 11/20\n",
      "2196/2196 [==============================] - 26s 12ms/sample - loss: 0.0448\n",
      "Epoch 12/20\n",
      "2196/2196 [==============================] - 26s 12ms/sample - loss: 0.0448\n",
      "Epoch 13/20\n",
      "2196/2196 [==============================] - 30s 14ms/sample - loss: 0.0447\n",
      "Epoch 14/20\n",
      "2196/2196 [==============================] - 29s 13ms/sample - loss: 0.0447\n",
      "Epoch 15/20\n",
      "2196/2196 [==============================] - 30s 13ms/sample - loss: 0.0446\n",
      "Epoch 16/20\n",
      "2196/2196 [==============================] - 29s 13ms/sample - loss: 0.0445\n",
      "Epoch 17/20\n",
      "2196/2196 [==============================] - 30s 14ms/sample - loss: 0.0444\n",
      "Epoch 18/20\n",
      "2196/2196 [==============================] - 27s 12ms/sample - loss: 0.0445\n",
      "Epoch 19/20\n",
      "2196/2196 [==============================] - 27s 12ms/sample - loss: 0.0445\n",
      "Epoch 20/20\n",
      "2196/2196 [==============================] - 27s 12ms/sample - loss: 0.0445\n"
     ]
    },
    {
     "data": {
      "text/plain": [
       "<tensorflow.python.keras.callbacks.History at 0x1a4c37ba10>"
      ]
     },
     "execution_count": 14,
     "metadata": {},
     "output_type": "execute_result"
    }
   ],
   "source": [
    "# Define a model\n",
    "\n",
    "model = Sequential()\n",
    "model.add(LSTM(256, input_shape=(n_prev, 1), return_sequences=True))\n",
    "model.add(Dropout(0.3))\n",
    "model.add(LSTM(128, input_shape=(n_prev, 1), return_sequences=True))\n",
    "model.add(Dropout(0.3))\n",
    "model.add(LSTM(64, input_shape=(n_prev, 1), return_sequences=False))\n",
    "model.add(Dropout(0.3))\n",
    "model.add(Dense(1))\n",
    "model.add(Activation('sigmoid'))\n",
    "\n",
    "optimizer = Adam(lr=0.001)\n",
    "model.compile(loss='mse', optimizer=optimizer)\n",
    "\n",
    "# train model\n",
    "model.fit(np.array(X), np.array(y), \n",
    "          32, 20, verbose=1)#, callbacks=[model_save_callback])"
   ]
  },
  {
   "cell_type": "code",
   "execution_count": 15,
   "metadata": {},
   "outputs": [],
   "source": [
    "# predict notes from test sequence\n",
    "\n",
    "def get_pred(model, X_test, y_test):\n",
    "    pred_test = model.predict(np.array(X_test))\n",
    "    pred = np.squeeze(pred_test)\n",
    "    pred_test = [note[0] for note in pred_test]\n",
    "    pred = np.squeeze(scaler.inverse_transform(pred.reshape(-1,1)))\n",
    "    pred_note = [int(i) for i in pred]\n",
    "    \n",
    "    mse = mean_squared_error(pred_test, y_test)\n",
    "\n",
    "    return pred_test, pred_note, mse\n",
    "\n",
    "pred_test, pred_note, mse = get_pred(model, X_test, y_test)\n",
    "# pred_test, pred_note, mse = get_pred(model, X, y)"
   ]
  },
  {
   "cell_type": "code",
   "execution_count": 16,
   "metadata": {},
   "outputs": [
    {
     "name": "stdout",
     "output_type": "stream",
     "text": [
      "0.03396648897765177\n"
     ]
    }
   ],
   "source": [
    "# mean squared error for prediction\n",
    "print(mse)"
   ]
  },
  {
   "cell_type": "code",
   "execution_count": 17,
   "metadata": {},
   "outputs": [
    {
     "data": {
      "image/png": "[encoded data removed]",
      "text/plain": [
       "<Figure size 864x360 with 2 Axes>"
      ]
     },
     "metadata": {
      "needs_background": "light"
     },
     "output_type": "display_data"
    }
   ],
   "source": [
    "# plot the sequences generated\n",
    "\n",
    "def plot_pred_seq(pred_test, y_test):\n",
    "\n",
    "    df = pd.DataFrame({'pred_test': pred_test, 'y_test': y_test})\n",
    "\n",
    "    plt.figure(figsize=(12,5))\n",
    "    plt.xlabel('Length of Music Sequence')\n",
    "\n",
    "    ax1 = df.pred_test.plot(color='blue', grid=True, label='pred_test')\n",
    "    ax2 = df.y_test.plot(color='red', grid=True, secondary_y=True, label='y_test')\n",
    "\n",
    "    h1, l1 = ax1.get_legend_handles_labels()\n",
    "    h2, l2 = ax2.get_legend_handles_labels()\n",
    "\n",
    "\n",
    "    plt.legend(h1+h2, l1+l2, loc=2)\n",
    "    plt.show()\n",
    "    \n",
    "plot_pred_seq(pred_test, y_test)\n",
    "# plot_pred_seq(pred_test, [note[0] for note in y])"
   ]
  },
  {
   "cell_type": "code",
   "execution_count": 1,
   "metadata": {},
   "outputs": [
    {
     "ename": "NameError",
     "evalue": "name 'MidiFile' is not defined",
     "output_type": "error",
     "traceback": [
      "\u001b[0;31m---------------------------------------------------------------------------\u001b[0m",
      "\u001b[0;31mNameError\u001b[0m                                 Traceback (most recent call last)",
      "\u001b[0;32m<ipython-input-1-cc2206270121>\u001b[0m in \u001b[0;36m<module>\u001b[0;34m\u001b[0m\n\u001b[1;32m      1\u001b[0m \u001b[0;31m# generate midi files\u001b[0m\u001b[0;34m\u001b[0m\u001b[0;34m\u001b[0m\u001b[0;34m\u001b[0m\u001b[0m\n\u001b[0;32m----> 2\u001b[0;31m \u001b[0mmid\u001b[0m \u001b[0;34m=\u001b[0m \u001b[0mMidiFile\u001b[0m\u001b[0;34m(\u001b[0m\u001b[0;34m)\u001b[0m\u001b[0;34m\u001b[0m\u001b[0;34m\u001b[0m\u001b[0m\n\u001b[0m\u001b[1;32m      3\u001b[0m \u001b[0mtrack\u001b[0m \u001b[0;34m=\u001b[0m \u001b[0mMidiTrack\u001b[0m\u001b[0;34m(\u001b[0m\u001b[0;34m)\u001b[0m\u001b[0;34m\u001b[0m\u001b[0;34m\u001b[0m\u001b[0m\n\u001b[1;32m      4\u001b[0m \u001b[0mt\u001b[0m \u001b[0;34m=\u001b[0m \u001b[0;36m0\u001b[0m\u001b[0;34m\u001b[0m\u001b[0;34m\u001b[0m\u001b[0m\n\u001b[1;32m      5\u001b[0m \u001b[0;32mfor\u001b[0m \u001b[0mnote\u001b[0m \u001b[0;32min\u001b[0m \u001b[0mpred_note\u001b[0m\u001b[0;34m:\u001b[0m\u001b[0;34m\u001b[0m\u001b[0;34m\u001b[0m\u001b[0m\n",
      "\u001b[0;31mNameError\u001b[0m: name 'MidiFile' is not defined"
     ]
    }
   ],
   "source": [
    "# generate midi files\n",
    "mid = MidiFile()\n",
    "track = MidiTrack()\n",
    "t = 0\n",
    "for note in pred_note:\n",
    "    # 147 means note_on\n",
    "    # 67 is velocity\n",
    "    note = np.asarray([147, note, 127]) \n",
    "    bytes = note.astype(int)\n",
    "    msg = Message.from_bytes(bytes[0:3])\n",
    "    t += 1\n",
    "    msg.time = t\n",
    "    track.append(msg)\n",
    "    \n",
    "mid.tracks.append(track)\n",
    "\n",
    "mid.save('midi_generated/' + folder_name + '/' + song_name + '_gen.mid')"
   ]
  },
  {
   "cell_type": "code",
   "execution_count": null,
   "metadata": {},
   "outputs": [],
   "source": [
    "midi_filename"
   ]
  },
  {
   "cell_type": "code",
   "execution_count": null,
   "metadata": {},
   "outputs": [],
   "source": []
  },
  {
   "cell_type": "code",
   "execution_count": null,
   "metadata": {},
   "outputs": [],
   "source": [
    "## bidirectional lstm"
   ]
  },
  {
   "cell_type": "code",
   "execution_count": null,
   "metadata": {},
   "outputs": [],
   "source": [
    "# model_bi = Sequential()\n",
    "# model_bi.add(Bidirectional(LSTM(256, return_sequences=True),input_shape=(n_prev, 1)))\n",
    "# model_bi.add(Dropout(0.3))\n",
    "# model_bi.add(Bidirectional(LSTM(128, return_sequences=True), \n",
    "#                         input_shape=(n_prev, 1)))\n",
    "# model_bi.add(Dropout(0.3))\n",
    "# model_bi.add(Bidirectional(LSTM(64, return_sequences=True), \n",
    "#                         input_shape=(n_prev, 1)))\n",
    "# model_bi.add(Dropout(0.3))\n",
    "# model_bi.add(Dense(1))\n",
    "# model_bi.add(Activation('sigmoid'))\n",
    "\n",
    "# optimizer = Adam(lr=0.001)\n",
    "# model_bi.compile(loss='mse', optimizer=optimizer)\n",
    "\n",
    "# # train model\n",
    "# model_bi.fit(np.array(X), np.array(y), \n",
    "#           32, 20, verbose=1)#, callbacks=[model_save_callback])"
   ]
  },
  {
   "cell_type": "code",
   "execution_count": null,
   "metadata": {},
   "outputs": [],
   "source": [
    "# pred_test, pred_note, mse = get_pred(model_bi, X_test, y_test)\n",
    "# print('MSE: ', mse)\n",
    "# plot_pred_seq(pred_test, y_test)"
   ]
  },
  {
   "cell_type": "markdown",
   "metadata": {},
   "source": [
    "### MusicVAE"
   ]
  },
  {
   "cell_type": "code",
   "execution_count": null,
   "metadata": {},
   "outputs": [],
   "source": []
  },
  {
   "cell_type": "code",
   "execution_count": null,
   "metadata": {},
   "outputs": [],
   "source": []
  }
 ],
 "metadata": {
  "kernelspec": {
   "display_name": "Python 3",
   "language": "python",
   "name": "python3"
  },
  "language_info": {
   "codemirror_mode": {
    "name": "ipython",
    "version": 3
   },
   "file_extension": ".py",
   "mimetype": "text/x-python",
   "name": "python",
   "nbconvert_exporter": "python",
   "pygments_lexer": "ipython3",
   "version": "3.7.4"
  }
 },
 "nbformat": 4,
 "nbformat_minor": 4
}
